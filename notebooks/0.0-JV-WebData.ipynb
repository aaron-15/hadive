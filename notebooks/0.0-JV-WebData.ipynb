{
 "cells": [
  {
   "cell_type": "code",
   "execution_count": 1,
   "metadata": {
    "collapsed": true
   },
   "outputs": [],
   "source": [
    "import datetime\n",
    "import pandas as pd\n",
    "%matplotlib inline"
   ]
  },
  {
   "cell_type": "code",
   "execution_count": 2,
   "metadata": {
    "collapsed": false
   },
   "outputs": [],
   "source": [
    "def groupby_min(df, dur):\n",
    "    temp = df.copy()\n",
    "    temp.index = map(lambda x: pd.datetime.combine(datetime.datetime.today(), x), temp.index.time)\n",
    "    return temp.groupby(\"cam_id\").resample(dur).mean()\n",
    "\n",
    "# Load data, and only use weekdays.\n",
    "df = pd.read_csv(\"../data/external/hadive-data.csv\",\n",
    "                 usecols=[\"cam_id\", \"date\", \"cam_dir\", \"count\", \"imtime\"],\n",
    "                 dtype={\"cam_id\": int, \"date\": str, \"cam_dir\": str, \"count\": int, \"imtime\": str},\n",
    "                 parse_dates=[\"date\"], infer_datetime_format=True, index_col=\"date\")\n",
    "df = df[df.index.weekday < 5]"
   ]
  },
  {
   "cell_type": "code",
   "execution_count": 3,
   "metadata": {
    "collapsed": true
   },
   "outputs": [],
   "source": [
    "dfs = []\n",
    "for cam_id in df.cam_id.unique():\n",
    "    dfs.append(groupby_min(df[df[\"cam_id\"] == cam_id], \"5Min\").set_index(\"cam_id\", append=True))"
   ]
  },
  {
   "cell_type": "code",
   "execution_count": 4,
   "metadata": {
    "collapsed": false
   },
   "outputs": [],
   "source": [
    "df_ = pd.concat(dfs)\n",
    "df_ = df_.reset_index(level=2, drop=True).reset_index().fillna(0)\n",
    "df_.columns = [\"cam\", \"date\", \"count\"]\n",
    "df_.set_index(\"cam\").to_csv(\"..data/external/weekdayavg.csv\")"
   ]
  }
 ],
 "metadata": {
  "kernelspec": {
   "display_name": "Python 2",
   "language": "python",
   "name": "python2"
  },
  "language_info": {
   "codemirror_mode": {
    "name": "ipython",
    "version": 2
   },
   "file_extension": ".py",
   "mimetype": "text/x-python",
   "name": "python",
   "nbconvert_exporter": "python",
   "pygments_lexer": "ipython2",
   "version": "2.7.12"
  }
 },
 "nbformat": 4,
 "nbformat_minor": 2
}
