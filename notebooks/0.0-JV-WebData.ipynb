{
 "cells": [
  {
   "cell_type": "markdown",
   "metadata": {},
   "source": [
    "# 0.0-JV-WebData\n",
    "The code below will prepare the weekday average .csv to be visualized on the project website."
   ]
  },
  {
   "cell_type": "code",
   "execution_count": 1,
   "metadata": {
    "collapsed": true
   },
   "outputs": [],
   "source": [
    "import datetime\n",
    "import pandas as pd\n",
    "\n",
    "def groupby_min(df, dur):\n",
    "    \"\"\"Using the hadive data, this function with take a dataframe and \n",
    "    groupby an average time interval (e.g., 5 min).\n",
    "    Arguments:\n",
    "    df - df to groupby.\n",
    "    dur - time duration to groupby.\"\"\"\n",
    "    temp = df.copy()\n",
    "    temp.index = map(lambda x: pd.datetime.combine(datetime.datetime.today(), x), temp.index.time)\n",
    "    return temp.groupby(\"cam_id\").resample(dur).mean()\n",
    "\n",
    "df = pd.read_csv(\"../data/external/hadive-data.csv\",\n",
    "                 usecols=[\"cam_id\", \"date\", \"cam_dir\", \"count\", \"imtime\"],\n",
    "                 dtype={\"cam_id\": int, \"date\": str, \"cam_dir\": str, \"count\": int, \"imtime\": str},\n",
    "                 parse_dates=[\"date\"], infer_datetime_format=True, index_col=\"date\")\n",
    "df = df[df.index.weekday < 5] # Select weekdays.\n",
    "\n",
    "dfs = []\n",
    "for cam_id in df.cam_id.unique(): # Get 5 min averages for all cameras.\n",
    "    dfs.append(groupby_min(df[df[\"cam_id\"] == cam_id], \"5Min\").set_index(\"cam_id\", append=True))\n",
    "\n",
    "df_ = pd.concat(dfs) # Concatenate all 5 min averages.\n",
    "df_ = df_.reset_index(level=2, drop=True).reset_index().fillna(0)\n",
    "df_.columns = [\"cam\", \"date\", \"count\"]\n",
    "df_.set_index(\"cam\").to_csv(\"..data/external/weekdayavg.csv\")"
   ]
  }
 ],
 "metadata": {
  "kernelspec": {
   "display_name": "Python 2",
   "language": "python",
   "name": "python2"
  },
  "language_info": {
   "codemirror_mode": {
    "name": "ipython",
    "version": 2
   },
   "file_extension": ".py",
   "mimetype": "text/x-python",
   "name": "python",
   "nbconvert_exporter": "python",
   "pygments_lexer": "ipython2",
   "version": "2.7.12"
  }
 },
 "nbformat": 4,
 "nbformat_minor": 2
}
