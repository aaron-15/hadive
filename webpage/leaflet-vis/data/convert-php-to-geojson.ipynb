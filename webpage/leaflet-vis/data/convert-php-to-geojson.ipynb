{
 "cells": [
  {
   "cell_type": "code",
   "execution_count": 41,
   "metadata": {
    "collapsed": false
   },
   "outputs": [],
   "source": [
    "import os\n",
    "import json\n",
    "import geojson\n",
    "import pandas as pd\n",
    "import geopandas as gpd\n",
    "from pandas.io.json import json_normalize\n",
    "%matplotlib inline"
   ]
  },
  {
   "cell_type": "code",
   "execution_count": 20,
   "metadata": {
    "collapsed": false
   },
   "outputs": [
    {
     "data": {
      "text/plain": [
       "['.ipynb_checkpoints',\n",
       " 'cameras.json',\n",
       " 'Convert .php to .geojson.ipynb',\n",
       " 'new-data.php',\n",
       " 'nyc.json']"
      ]
     },
     "execution_count": 20,
     "metadata": {},
     "output_type": "execute_result"
    }
   ],
   "source": [
    "os.listdir('.')"
   ]
  },
  {
   "cell_type": "code",
   "execution_count": 30,
   "metadata": {
    "collapsed": false
   },
   "outputs": [
    {
     "data": {
      "text/html": [
       "<div>\n",
       "<table border=\"1\" class=\"dataframe\">\n",
       "  <thead>\n",
       "    <tr style=\"text-align: right;\">\n",
       "      <th></th>\n",
       "      <th>id</th>\n",
       "      <th>content</th>\n",
       "      <th>latitude</th>\n",
       "      <th>longitude</th>\n",
       "    </tr>\n",
       "  </thead>\n",
       "  <tbody>\n",
       "    <tr>\n",
       "      <th>0</th>\n",
       "      <td>368</td>\n",
       "      <td>1 Ave @ 110 St</td>\n",
       "      <td>40.79142677512476</td>\n",
       "      <td>-73.93807411193848</td>\n",
       "    </tr>\n",
       "    <tr>\n",
       "      <th>1</th>\n",
       "      <td>360</td>\n",
       "      <td>1 Ave @ 124 St</td>\n",
       "      <td>40.800426144169315</td>\n",
       "      <td>-73.93155097961426</td>\n",
       "    </tr>\n",
       "    <tr>\n",
       "      <th>2</th>\n",
       "      <td>361</td>\n",
       "      <td>1 Ave @ 23 St</td>\n",
       "      <td>40.7359741672444</td>\n",
       "      <td>-73.97828578948975</td>\n",
       "    </tr>\n",
       "    <tr>\n",
       "      <th>3</th>\n",
       "      <td>550</td>\n",
       "      <td>1 Ave @ 42 St</td>\n",
       "      <td>40.74803725830298</td>\n",
       "      <td>-73.9694881439209</td>\n",
       "    </tr>\n",
       "    <tr>\n",
       "      <th>4</th>\n",
       "      <td>940</td>\n",
       "      <td>1 Ave @ 62 St</td>\n",
       "      <td>40.761501</td>\n",
       "      <td>-73.960542</td>\n",
       "    </tr>\n",
       "  </tbody>\n",
       "</table>\n",
       "</div>"
      ],
      "text/plain": [
       "    id         content            latitude           longitude\n",
       "0  368  1 Ave @ 110 St   40.79142677512476  -73.93807411193848\n",
       "1  360  1 Ave @ 124 St  40.800426144169315  -73.93155097961426\n",
       "2  361   1 Ave @ 23 St    40.7359741672444  -73.97828578948975\n",
       "3  550   1 Ave @ 42 St   40.74803725830298   -73.9694881439209\n",
       "4  940   1 Ave @ 62 St           40.761501          -73.960542"
      ]
     },
     "execution_count": 30,
     "metadata": {},
     "output_type": "execute_result"
    }
   ],
   "source": [
    "with open('new-data.php') as f:\n",
    "    data = json.load(f)\n",
    "\n",
    "df = json_normalize(data['markers'])\n",
    "df = df[['id', 'content', 'latitude', 'longitude']]\n",
    "df.head()"
   ]
  },
  {
   "cell_type": "code",
   "execution_count": 37,
   "metadata": {
    "collapsed": true
   },
   "outputs": [],
   "source": [
    "def data2geojson(df, outfile):\n",
    "    features = []\n",
    "    df.apply(lambda x: features.append(\n",
    "        geojson.Feature(geometry=geojson.Point((float(x['longitude']),\n",
    "                                                float(x['latitude']))),\n",
    "                        properties=dict(name=x['id'],\n",
    "                                        description=x['content']))),\n",
    "            axis=1)\n",
    "    with open(outfile, 'w+') as out:\n",
    "        geojson.dump(geojson.FeatureCollection(features),\n",
    "                     out, sort_keys=True)"
   ]
  },
  {
   "cell_type": "code",
   "execution_count": 38,
   "metadata": {
    "collapsed": false
   },
   "outputs": [],
   "source": [
    "data2geojson(df, 'cameras.geojson')"
   ]
  },
  {
   "cell_type": "code",
   "execution_count": 42,
   "metadata": {
    "collapsed": false
   },
   "outputs": [
    {
     "data": {
      "text/plain": [
       "<matplotlib.axes._subplots.AxesSubplot at 0x10ea91910>"
      ]
     },
     "execution_count": 42,
     "metadata": {},
     "output_type": "execute_result"
    },
    {
     "data": {
      "image/png": "[encoded data removed]",
      "text/plain": [
       "<matplotlib.figure.Figure at 0x10ec54150>"
      ]
     },
     "metadata": {},
     "output_type": "display_data"
    }
   ],
   "source": [
    "df = gpd.read_file('cameras.geojson')\n",
    "df.plot()"
   ]
  },
  {
   "cell_type": "code",
   "execution_count": null,
   "metadata": {
    "collapsed": true
   },
   "outputs": [],
   "source": []
  }
 ],
 "metadata": {
  "kernelspec": {
   "display_name": "Python 2",
   "language": "python",
   "name": "python2"
  },
  "language_info": {
   "codemirror_mode": {
    "name": "ipython",
    "version": 2
   },
   "file_extension": ".py",
   "mimetype": "text/x-python",
   "name": "python",
   "nbconvert_exporter": "python",
   "pygments_lexer": "ipython2",
   "version": "2.7.12"
  }
 },
 "nbformat": 4,
 "nbformat_minor": 2
}
