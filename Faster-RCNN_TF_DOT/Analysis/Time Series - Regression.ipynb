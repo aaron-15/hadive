{
 "cells": [
  {
   "cell_type": "code",
   "execution_count": 123,
   "metadata": {
    "collapsed": false
   },
   "outputs": [
    {
     "name": "stdout",
     "output_type": "stream",
     "text": [
      "Populating the interactive namespace from numpy and matplotlib\n"
     ]
    },
    {
     "name": "stderr",
     "output_type": "stream",
     "text": [
      "WARNING: pylab import has clobbered these variables: ['datetime']\n",
      "`%matplotlib` prevents importing * from pylab and numpy\n"
     ]
    }
   ],
   "source": [
    "import numpy as np\n",
    "import pandas as pd\n",
    "import pylab as pl\n",
    "import os\n",
    "import sqlalchemy as sql\n",
    "from pandas import Panel\n",
    "from pandas.stats import plm\n",
    "import geopandas as gpd\n",
    "from datetime import datetime\n",
    "from pandas.stats import plm\n",
    "import statsmodels.formula.api as smf\n",
    "\n",
    "%pylab inline"
   ]
  },
  {
   "cell_type": "code",
   "execution_count": 124,
   "metadata": {
    "collapsed": false
   },
   "outputs": [
    {
     "data": {
      "text/html": [
       "<div>\n",
       "<table border=\"1\" class=\"dataframe\">\n",
       "  <thead>\n",
       "    <tr style=\"text-align: right;\">\n",
       "      <th></th>\n",
       "      <th>day</th>\n",
       "      <th>count</th>\n",
       "      <th>cam</th>\n",
       "    </tr>\n",
       "  </thead>\n",
       "  <tbody>\n",
       "    <tr>\n",
       "      <th>0</th>\n",
       "      <td>2017-06-27 20</td>\n",
       "      <td>19</td>\n",
       "      <td>121</td>\n",
       "    </tr>\n",
       "    <tr>\n",
       "      <th>1</th>\n",
       "      <td>2017-06-27 20</td>\n",
       "      <td>48</td>\n",
       "      <td>125</td>\n",
       "    </tr>\n",
       "    <tr>\n",
       "      <th>2</th>\n",
       "      <td>2017-06-27 20</td>\n",
       "      <td>9</td>\n",
       "      <td>126</td>\n",
       "    </tr>\n",
       "  </tbody>\n",
       "</table>\n",
       "</div>"
      ],
      "text/plain": [
       "             day  count  cam\n",
       "0  2017-06-27 20     19  121\n",
       "1  2017-06-27 20     48  125\n",
       "2  2017-06-27 20      9  126"
      ]
     },
     "execution_count": 124,
     "metadata": {},
     "output_type": "execute_result"
    }
   ],
   "source": [
    "df = pd.read_csv('by_hour_day.csv', names=['day','count','cam'])\n",
    "df = df[df['day'] != 'Error']\n",
    "df.head(3)"
   ]
  },
  {
   "cell_type": "code",
   "execution_count": 125,
   "metadata": {
    "collapsed": false
   },
   "outputs": [],
   "source": [
    "df['date'] = pd.to_datetime(df['day'] + str(':00:00'), format='%Y-%m-%d %H:%M:%S')\n",
    "df.set_index(df['date'], inplace = True)"
   ]
  },
  {
   "cell_type": "code",
   "execution_count": 126,
   "metadata": {
    "collapsed": false
   },
   "outputs": [
    {
     "data": {
      "text/html": [
       "<div>\n",
       "<table border=\"1\" class=\"dataframe\">\n",
       "  <thead>\n",
       "    <tr style=\"text-align: right;\">\n",
       "      <th></th>\n",
       "      <th>day</th>\n",
       "      <th>count</th>\n",
       "      <th>cam</th>\n",
       "      <th>date</th>\n",
       "    </tr>\n",
       "    <tr>\n",
       "      <th>date</th>\n",
       "      <th></th>\n",
       "      <th></th>\n",
       "      <th></th>\n",
       "      <th></th>\n",
       "    </tr>\n",
       "  </thead>\n",
       "  <tbody>\n",
       "    <tr>\n",
       "      <th>2017-06-27 20:00:00</th>\n",
       "      <td>2017-06-27 20</td>\n",
       "      <td>19</td>\n",
       "      <td>121</td>\n",
       "      <td>2017-06-27 20:00:00</td>\n",
       "    </tr>\n",
       "    <tr>\n",
       "      <th>2017-06-27 20:00:00</th>\n",
       "      <td>2017-06-27 20</td>\n",
       "      <td>48</td>\n",
       "      <td>125</td>\n",
       "      <td>2017-06-27 20:00:00</td>\n",
       "    </tr>\n",
       "    <tr>\n",
       "      <th>2017-06-27 20:00:00</th>\n",
       "      <td>2017-06-27 20</td>\n",
       "      <td>9</td>\n",
       "      <td>126</td>\n",
       "      <td>2017-06-27 20:00:00</td>\n",
       "    </tr>\n",
       "  </tbody>\n",
       "</table>\n",
       "</div>"
      ],
      "text/plain": [
       "                               day  count  cam                date\n",
       "date                                                              \n",
       "2017-06-27 20:00:00  2017-06-27 20     19  121 2017-06-27 20:00:00\n",
       "2017-06-27 20:00:00  2017-06-27 20     48  125 2017-06-27 20:00:00\n",
       "2017-06-27 20:00:00  2017-06-27 20      9  126 2017-06-27 20:00:00"
      ]
     },
     "execution_count": 126,
     "metadata": {},
     "output_type": "execute_result"
    }
   ],
   "source": [
    "df.head(3)"
   ]
  },
  {
   "cell_type": "code",
   "execution_count": 127,
   "metadata": {
    "collapsed": false
   },
   "outputs": [],
   "source": [
    "# get day of week dummies\n",
    "# hrs = ['0h','1h','2h', '3h', '4h', '5h', '6h', '7h', '8h', '9h', '10h', '11h', '12h', '13h', '14h', '15h', '16h',\\\n",
    "#        '17h', '18h', '19h',\\\n",
    "#        '20h', '21h', '22h', '23h']\n",
    "# for i, hr in enumerate(hrs):\n",
    "#     df[hr] = (df.index.hour == i)*1\n",
    "\n",
    "intervals = ['6-10', '10-14', '14-18', '18-22', '22-2', '2-6']\n",
    "\n",
    "df['6-10'] = ((df.index.hour > 5) & (df.index.hour < 10))*1\n",
    "\n",
    "df['10-14'] = ((df.index.hour > 9) & (df.index.hour < 14))*1\n",
    "\n",
    "df['14-18'] = ((df.index.hour > 13) & (df.index.hour < 18))*1\n",
    "\n",
    "df['18-22'] = ((df.index.hour > 17) & (df.index.hour < 22))*1\n",
    "\n",
    "df['22-2'] = ((df.index.hour > 21) & (df.index.hour < 2))*1\n",
    "\n",
    "df['2-6'] = ((df.index.hour > 1) & (df.index.hour < 6))*1\n",
    "\n",
    "\n",
    "# get month dummies\n",
    "days = ['weekday','weekend']\n",
    "df['weekday'] = (df.index.dayofweek < 5)*1\n",
    "df['weekend'] = (df.index.dayofweek > 4)*1"
   ]
  },
  {
   "cell_type": "code",
   "execution_count": 128,
   "metadata": {
    "collapsed": false
   },
   "outputs": [
    {
     "data": {
      "text/html": [
       "<div>\n",
       "<table border=\"1\" class=\"dataframe\">\n",
       "  <thead>\n",
       "    <tr style=\"text-align: right;\">\n",
       "      <th></th>\n",
       "      <th>day</th>\n",
       "      <th>count</th>\n",
       "      <th>cam</th>\n",
       "      <th>date</th>\n",
       "      <th>6-10</th>\n",
       "      <th>10-14</th>\n",
       "      <th>14-18</th>\n",
       "      <th>18-22</th>\n",
       "      <th>22-2</th>\n",
       "      <th>2-6</th>\n",
       "      <th>weekday</th>\n",
       "      <th>weekend</th>\n",
       "    </tr>\n",
       "    <tr>\n",
       "      <th>date</th>\n",
       "      <th></th>\n",
       "      <th></th>\n",
       "      <th></th>\n",
       "      <th></th>\n",
       "      <th></th>\n",
       "      <th></th>\n",
       "      <th></th>\n",
       "      <th></th>\n",
       "      <th></th>\n",
       "      <th></th>\n",
       "      <th></th>\n",
       "      <th></th>\n",
       "    </tr>\n",
       "  </thead>\n",
       "  <tbody>\n",
       "    <tr>\n",
       "      <th>2017-06-27 20:00:00</th>\n",
       "      <td>2017-06-27 20</td>\n",
       "      <td>19</td>\n",
       "      <td>121</td>\n",
       "      <td>2017-06-27 20:00:00</td>\n",
       "      <td>0</td>\n",
       "      <td>0</td>\n",
       "      <td>0</td>\n",
       "      <td>1</td>\n",
       "      <td>0</td>\n",
       "      <td>0</td>\n",
       "      <td>1</td>\n",
       "      <td>0</td>\n",
       "    </tr>\n",
       "    <tr>\n",
       "      <th>2017-06-27 20:00:00</th>\n",
       "      <td>2017-06-27 20</td>\n",
       "      <td>48</td>\n",
       "      <td>125</td>\n",
       "      <td>2017-06-27 20:00:00</td>\n",
       "      <td>0</td>\n",
       "      <td>0</td>\n",
       "      <td>0</td>\n",
       "      <td>1</td>\n",
       "      <td>0</td>\n",
       "      <td>0</td>\n",
       "      <td>1</td>\n",
       "      <td>0</td>\n",
       "    </tr>\n",
       "    <tr>\n",
       "      <th>2017-06-27 20:00:00</th>\n",
       "      <td>2017-06-27 20</td>\n",
       "      <td>9</td>\n",
       "      <td>126</td>\n",
       "      <td>2017-06-27 20:00:00</td>\n",
       "      <td>0</td>\n",
       "      <td>0</td>\n",
       "      <td>0</td>\n",
       "      <td>1</td>\n",
       "      <td>0</td>\n",
       "      <td>0</td>\n",
       "      <td>1</td>\n",
       "      <td>0</td>\n",
       "    </tr>\n",
       "  </tbody>\n",
       "</table>\n",
       "</div>"
      ],
      "text/plain": [
       "                               day  count  cam                date  6-10  \\\n",
       "date                                                                       \n",
       "2017-06-27 20:00:00  2017-06-27 20     19  121 2017-06-27 20:00:00     0   \n",
       "2017-06-27 20:00:00  2017-06-27 20     48  125 2017-06-27 20:00:00     0   \n",
       "2017-06-27 20:00:00  2017-06-27 20      9  126 2017-06-27 20:00:00     0   \n",
       "\n",
       "                     10-14  14-18  18-22  22-2  2-6  weekday  weekend  \n",
       "date                                                                   \n",
       "2017-06-27 20:00:00      0      0      1     0    0        1        0  \n",
       "2017-06-27 20:00:00      0      0      1     0    0        1        0  \n",
       "2017-06-27 20:00:00      0      0      1     0    0        1        0  "
      ]
     },
     "execution_count": 128,
     "metadata": {},
     "output_type": "execute_result"
    }
   ],
   "source": [
    "df.head(3)"
   ]
  },
  {
   "cell_type": "code",
   "execution_count": 129,
   "metadata": {
    "collapsed": false,
    "scrolled": true
   },
   "outputs": [],
   "source": [
    "df = df[df.cam.isin([504, 540, 398, 794, 503, 838, 163, 491, 488, 91])]\n",
    "# df = df[df.cam.isin([504])]"
   ]
  },
  {
   "cell_type": "code",
   "execution_count": 130,
   "metadata": {
    "collapsed": false
   },
   "outputs": [
    {
     "data": {
      "text/plain": [
       "array([163, 398, 488, 491, 503, 504, 540, 794, 838])"
      ]
     },
     "execution_count": 130,
     "metadata": {},
     "output_type": "execute_result"
    }
   ],
   "source": [
    "df.cam.unique()"
   ]
  },
  {
   "cell_type": "code",
   "execution_count": 131,
   "metadata": {
    "collapsed": false
   },
   "outputs": [
    {
     "data": {
      "text/plain": [
       "(2871, 12)"
      ]
     },
     "execution_count": 131,
     "metadata": {},
     "output_type": "execute_result"
    }
   ],
   "source": [
    "df.shape"
   ]
  },
  {
   "cell_type": "code",
   "execution_count": 132,
   "metadata": {
    "collapsed": false
   },
   "outputs": [],
   "source": [
    "df_panel = df[df.weekend == 1].set_index(['date','cam'])\n",
    "df_panel['count_lag4'] = df_panel['count'].shift(4)\n",
    "df_panel['count_lag24'] = df_panel['count'].shift(24)"
   ]
  },
  {
   "cell_type": "code",
   "execution_count": 122,
   "metadata": {
    "collapsed": false
   },
   "outputs": [
    {
     "data": {
      "text/plain": [
       "\n",
       "-------------------------Summary of Regression Analysis-------------------------\n",
       "\n",
       "Formula: Y ~ <count_lag4> + <6-10> + <10-14> + <14-18> + <18-22> + <22-2>\n",
       "             + <2-6> + <FE_398> + <FE_488> + <FE_491> + <FE_503> + <FE_504> + <FE_540>\n",
       "             + <FE_794> + <FE_838> + <intercept>\n",
       "\n",
       "Number of Observations:         1886\n",
       "Number of Degrees of Freedom:   15\n",
       "\n",
       "R-squared:         0.6914\n",
       "Adj R-squared:     0.6891\n",
       "\n",
       "Rmse:             71.0330\n",
       "\n",
       "F-stat (15, 1871):   299.4748, p-value:     0.0000\n",
       "\n",
       "Degrees of Freedom: model 14, resid 1871\n",
       "\n",
       "-----------------------Summary of Estimated Coefficients------------------------\n",
       "      Variable       Coef    Std Err     t-stat    p-value    CI 2.5%   CI 97.5%\n",
       "--------------------------------------------------------------------------------\n",
       "    count_lag4     0.4204     0.0210      20.02     0.0000     0.3793     0.4616\n",
       "          6-10    69.9516     5.8697      11.92     0.0000    58.4469    81.4563\n",
       "         10-14    85.6579     6.3259      13.54     0.0000    73.2593    98.0566\n",
       "         14-18   107.8088     6.8318      15.78     0.0000    94.4186   121.1991\n",
       "         18-22    61.9837     6.2904       9.85     0.0000    49.6545    74.3129\n",
       "--------------------------------------------------------------------------------\n",
       "          22-2     0.0000        nan        nan        nan        nan        nan\n",
       "           2-6    -7.6134     5.5998      -1.36     0.1741   -18.5889     3.3621\n",
       "        FE_398    59.5770     7.7664       7.67     0.0000    44.3549    74.7992\n",
       "        FE_488   -64.4287     7.3060      -8.82     0.0000   -78.7484   -50.1090\n",
       "        FE_491  -180.3262     6.9505     -25.94     0.0000  -193.9492  -166.7033\n",
       "--------------------------------------------------------------------------------\n",
       "        FE_503   -80.2497     6.9681     -11.52     0.0000   -93.9072   -66.5922\n",
       "        FE_504   -38.7134     6.9528      -5.57     0.0000   -52.3409   -25.0859\n",
       "        FE_540  -161.9784     7.1384     -22.69     0.0000  -175.9696  -147.9872\n",
       "        FE_794   -73.0778     7.6544      -9.55     0.0000   -88.0805   -58.0752\n",
       "        FE_838   -22.1555     6.9859      -3.17     0.0015   -35.8477    -8.4632\n",
       "--------------------------------------------------------------------------------\n",
       "     intercept    79.5017     6.3839      12.45     0.0000    66.9893    92.0141\n",
       "---------------------------------End of Summary---------------------------------"
      ]
     },
     "execution_count": 122,
     "metadata": {},
     "output_type": "execute_result"
    }
   ],
   "source": [
    "plm.PanelOLS(y = df_panel['count'], x = df_panel[['count_lag4','6-10', '10-14', '14-18', '18-22', '22-2', '2-6',\\\n",
    "                                                  ]],\\\n",
    "                                                    entity_effects=True)"
   ]
  },
  {
   "cell_type": "code",
   "execution_count": 133,
   "metadata": {
    "collapsed": false
   },
   "outputs": [
    {
     "data": {
      "text/plain": [
       "\n",
       "-------------------------Summary of Regression Analysis-------------------------\n",
       "\n",
       "Formula: Y ~ <count_lag4> + <6-10> + <10-14> + <14-18> + <18-22> + <22-2>\n",
       "             + <2-6> + <FE_398> + <FE_488> + <FE_491> + <FE_503> + <FE_504> + <FE_540>\n",
       "             + <FE_794> + <FE_838> + <intercept>\n",
       "\n",
       "Number of Observations:         860\n",
       "Number of Degrees of Freedom:   15\n",
       "\n",
       "R-squared:         0.6971\n",
       "Adj R-squared:     0.6921\n",
       "\n",
       "Rmse:             58.7626\n",
       "\n",
       "F-stat (15, 845):   138.9311, p-value:     0.0000\n",
       "\n",
       "Degrees of Freedom: model 14, resid 845\n",
       "\n",
       "-----------------------Summary of Estimated Coefficients------------------------\n",
       "      Variable       Coef    Std Err     t-stat    p-value    CI 2.5%   CI 97.5%\n",
       "--------------------------------------------------------------------------------\n",
       "    count_lag4     0.4231     0.0321      13.20     0.0000     0.3603     0.4859\n",
       "          6-10    31.4025     7.0342       4.46     0.0000    17.6155    45.1896\n",
       "         10-14    79.0074     8.1217       9.73     0.0000    63.0889    94.9260\n",
       "         14-18    90.7993     8.4658      10.73     0.0000    74.2064   107.3922\n",
       "         18-22    50.0308     7.8085       6.41     0.0000    34.7262    65.3354\n",
       "--------------------------------------------------------------------------------\n",
       "          22-2    -0.0000        nan        nan        nan        nan        nan\n",
       "           2-6    -8.1025     7.0016      -1.16     0.2475   -21.8256     5.6206\n",
       "        FE_398   -14.5855     9.6434      -1.51     0.1308   -33.4866     4.3156\n",
       "        FE_488   -49.0458     9.0782      -5.40     0.0000   -66.8392   -31.2524\n",
       "        FE_491  -139.4053     8.5319     -16.34     0.0000  -156.1279  -122.6827\n",
       "--------------------------------------------------------------------------------\n",
       "        FE_503   -65.3570     8.5603      -7.63     0.0000   -82.1351   -48.5788\n",
       "        FE_504   -14.3336     8.6122      -1.66     0.0964   -31.2136     2.5463\n",
       "        FE_540  -146.8161     8.7072     -16.86     0.0000  -163.8823  -129.7499\n",
       "        FE_794   -84.7103     9.1268      -9.28     0.0000  -102.5987   -66.8218\n",
       "        FE_838   -13.5954     8.5303      -1.59     0.1114   -30.3148     3.1240\n",
       "--------------------------------------------------------------------------------\n",
       "     intercept    76.5567     8.0074       9.56     0.0000    60.8621    92.2513\n",
       "---------------------------------End of Summary---------------------------------"
      ]
     },
     "execution_count": 133,
     "metadata": {},
     "output_type": "execute_result"
    }
   ],
   "source": [
    "plm.PanelOLS(y = df_panel['count'], x = df_panel[['count_lag4','6-10', '10-14', '14-18', '18-22', '22-2', '2-6',\\\n",
    "                                                  ]],\\\n",
    "                                                    entity_effects=True)"
   ]
  },
  {
   "cell_type": "code",
   "execution_count": 84,
   "metadata": {
    "collapsed": false
   },
   "outputs": [
    {
     "data": {
      "text/plain": [
       "\n",
       "-------------------------Summary of Regression Analysis-------------------------\n",
       "\n",
       "Formula: Y ~ <count_lag24> + <weekday> + <weekend> + <FE_398> + <FE_488>\n",
       "             + <FE_491> + <FE_503> + <FE_504> + <FE_540> + <FE_794> + <FE_838>\n",
       "             + <intercept>\n",
       "\n",
       "Number of Observations:         2730\n",
       "Number of Degrees of Freedom:   11\n",
       "\n",
       "R-squared:         0.3481\n",
       "Adj R-squared:     0.3457\n",
       "\n",
       "Rmse:             98.3380\n",
       "\n",
       "F-stat (11, 2719):   145.1937, p-value:     0.0000\n",
       "\n",
       "Degrees of Freedom: model 10, resid 2719\n",
       "\n",
       "-----------------------Summary of Estimated Coefficients------------------------\n",
       "      Variable       Coef    Std Err     t-stat    p-value    CI 2.5%   CI 97.5%\n",
       "--------------------------------------------------------------------------------\n",
       "   count_lag24     0.3037     0.0183      16.58     0.0000     0.2678     0.3396\n",
       "       weekday    68.8344     2.6065      26.41     0.0000    63.7256    73.9432\n",
       "       weekend    55.7469     2.9497      18.90     0.0000    49.9655    61.5283\n",
       "        FE_398   -62.5207     8.2206      -7.61     0.0000   -78.6330   -46.4084\n",
       "        FE_488  -146.2882     8.3748     -17.47     0.0000  -162.7029  -129.8735\n",
       "--------------------------------------------------------------------------------\n",
       "        FE_491  -163.2250     7.9968     -20.41     0.0000  -178.8988  -147.5513\n",
       "        FE_503   -73.7917     8.0135      -9.21     0.0000   -89.4981   -58.0853\n",
       "        FE_504   -72.6406     8.3669      -8.68     0.0000   -89.0396   -56.2415\n",
       "        FE_540  -239.5698     8.5542     -28.01     0.0000  -256.3360  -222.8037\n",
       "        FE_794  -177.4384     8.3749     -21.19     0.0000  -193.8532  -161.0235\n",
       "--------------------------------------------------------------------------------\n",
       "        FE_838   -53.6516     8.0736      -6.65     0.0000   -69.4757   -37.8274\n",
       "     intercept   124.5813     3.8106      32.69     0.0000   117.1126   132.0500\n",
       "---------------------------------End of Summary---------------------------------"
      ]
     },
     "execution_count": 84,
     "metadata": {},
     "output_type": "execute_result"
    }
   ],
   "source": [
    "plm.PanelOLS(y = df_panel['count'], x = df_panel[['count_lag24','weekday','weekend']],\\\n",
    "                 entity_effects=True)"
   ]
  },
  {
   "cell_type": "code",
   "execution_count": 53,
   "metadata": {
    "collapsed": false
   },
   "outputs": [
    {
     "data": {
      "text/plain": [
       "\n",
       "-------------------------Summary of Regression Analysis-------------------------\n",
       "\n",
       "Formula: Y ~ <count_lag24> + <0h> + <1h> + <2h> + <3h> + <4h> + <5h> + <6h>\n",
       "             + <7h> + <8h> + <9h> + <10h> + <11h> + <12h> + <13h> + <14h> + <15h>\n",
       "             + <16h> + <17h> + <18h> + <19h> + <20h> + <21h> + <22h> + <23h>\n",
       "             + <FE_398> + <FE_488> + <FE_491> + <FE_503> + <FE_504> + <FE_540>\n",
       "             + <FE_794> + <FE_838> + <intercept>\n",
       "\n",
       "Number of Observations:         2730\n",
       "Number of Degrees of Freedom:   33\n",
       "\n",
       "R-squared:         0.6801\n",
       "Adj R-squared:     0.6763\n",
       "\n",
       "Rmse:             69.1713\n",
       "\n",
       "F-stat (33, 2697):   179.1545, p-value:     0.0000\n",
       "\n",
       "Degrees of Freedom: model 32, resid 2697\n",
       "\n",
       "-----------------------Summary of Estimated Coefficients------------------------\n",
       "      Variable       Coef    Std Err     t-stat    p-value    CI 2.5%   CI 97.5%\n",
       "--------------------------------------------------------------------------------\n",
       "   count_lag24    -0.1649     0.0187      -8.83     0.0000    -0.2015    -0.1283\n",
       "            0h -203240600417.8695     6.3693 -31909397785.53     0.0000 -203240600430.3533 -203240600405.3857\n",
       "            1h -203240600426.5995     6.3994 -31759417476.75     0.0000 -203240600439.1423 -203240600414.0567\n",
       "            2h -203240600431.6133     6.4537 -31491945090.37     0.0000 -203240600444.2627 -203240600418.9640\n",
       "            3h -203240600437.0422     6.4987 -31273842960.04     0.0000 -203240600449.7797 -203240600424.3047\n",
       "--------------------------------------------------------------------------------\n",
       "            4h -203240600438.1416     6.5186 -31178756956.70     0.0000 -203240600450.9179 -203240600425.3652\n",
       "            5h -203240600424.1600     6.5412 -31070848162.57     0.0000 -203240600436.9807 -203240600411.3392\n",
       "            6h -203240600391.2458     6.5530 -31014894718.62     0.0000 -203240600404.0897 -203240600378.4020\n",
       "            7h -203240600350.4770     6.5335 -31107432735.13     0.0000 -203240600363.2827 -203240600337.6713\n",
       "            8h -203240600289.4884     6.4160 -31677313800.76     0.0000 -203240600302.0637 -203240600276.9131\n",
       "--------------------------------------------------------------------------------\n",
       "            9h -203240600274.9949     6.2979 -32271353659.71     0.0000 -203240600287.3387 -203240600262.6511\n",
       "           10h -203240600279.5651     6.2717 -32405933448.97     0.0000 -203240600291.8577 -203240600267.2726\n",
       "           11h -203240600267.4949     6.3128 -32194963197.08     0.0000 -203240600279.8680 -203240600255.1218\n",
       "           12h -203240600234.3427     6.3114 -32202232589.08     0.0000 -203240600246.7130 -203240600221.9724\n",
       "           13h -203240600231.5417     6.3201 -32157959265.90     0.0000 -203240600243.9290 -203240600219.1543\n",
       "--------------------------------------------------------------------------------\n",
       "           14h -203240600224.5698     6.6077 -30758083899.76     0.0000 -203240600237.5209 -203240600211.6187\n",
       "           15h -203240600221.4207     6.6788 -30430537859.04     0.0000 -203240600234.5112 -203240600208.3301\n",
       "           16h -203240600217.5284     6.7198 -30244919822.44     0.0000 -203240600230.6993 -203240600204.3575\n",
       "           17h -203240600198.0796     6.7049 -30312179935.79     0.0000 -203240600211.2212 -203240600184.9379\n",
       "           18h -203240600203.4766     6.7128 -30276630560.32     0.0000 -203240600216.6336 -203240600190.3195\n",
       "--------------------------------------------------------------------------------\n",
       "           19h -203240600249.5103     6.7405 -30152106032.42     0.0000 -203240600262.7217 -203240600236.2989\n",
       "           20h -203240600281.9032     6.7828 -29964293877.53     0.0000 -203240600295.1974 -203240600268.6090\n",
       "           21h -203240600363.5241     6.6721 -30461304033.53     0.0000 -203240600376.6014 -203240600350.4468\n",
       "           22h -203240600378.5431     6.4649 -31437473084.13     0.0000 -203240600391.2143 -203240600365.8718\n",
       "           23h -203240600397.9687     6.2695 -32417159381.65     0.0000 -203240600410.2570 -203240600385.6804\n",
       "--------------------------------------------------------------------------------\n",
       "        FE_398   -13.0020     5.9565      -2.18     0.0291   -24.6767    -1.3274\n",
       "        FE_488   -82.0406     6.1760     -13.28     0.0000   -94.1456   -69.9357\n",
       "        FE_491  -172.0130     5.6307     -30.55     0.0000  -183.0492  -160.9768\n",
       "        FE_503   -57.9154     5.6553     -10.24     0.0000   -68.9999   -46.8310\n",
       "        FE_504    -9.0765     6.1648      -1.47     0.1411   -21.1594     3.0065\n",
       "--------------------------------------------------------------------------------\n",
       "        FE_540  -160.7195     6.4301     -24.99     0.0000  -173.3225  -148.1165\n",
       "        FE_794  -112.4332     6.1800     -18.19     0.0000  -124.5460  -100.3204\n",
       "        FE_838   -22.5603     5.7481      -3.92     0.0001   -33.8266   -11.2941\n",
       "     intercept 203240600522.0063     3.8533 52744464607.47     0.0000 203240600514.4538 203240600529.5587\n",
       "---------------------------------End of Summary---------------------------------"
      ]
     },
     "execution_count": 53,
     "metadata": {},
     "output_type": "execute_result"
    }
   ],
   "source": [
    "plm.PanelOLS(y = df_panel['count'], x = df_panel[['count_lag24','0h', '1h', '2h', '3h', '4h',\\\n",
    "       '5h', '6h', '7h', '8h', '9h', '10h', '11h', '12h','13h',\\\n",
    "       '14h','15h','16h','17h','18h','19h','20h','21h','22h',\\\n",
    "       '23h']], \\\n",
    "                 entity_effects=True)"
   ]
  },
  {
   "cell_type": "code",
   "execution_count": 265,
   "metadata": {
    "collapsed": false
   },
   "outputs": [
    {
     "name": "stderr",
     "output_type": "stream",
     "text": [
      "/opt/rh/anaconda/root/lib/python2.7/site-packages/statsmodels/regression/mixed_linear_model.py:1705: ConvergenceWarning: Gradient optimization failed.\n",
      "  warnings.warn(msg, ConvergenceWarning)\n",
      "/opt/rh/anaconda/root/lib/python2.7/site-packages/statsmodels/base/model.py:971: RuntimeWarning: invalid value encountered in sqrt\n",
      "  return np.sqrt(np.diag(self.cov_params()))\n"
     ]
    },
    {
     "data": {
      "text/html": [
       "<table class=\"simpletable\">\n",
       "<tr>\n",
       "       <td>Model:</td>       <td>MixedLM</td> <td>Dependent Variable:</td>    <td>count</td>   \n",
       "</tr>\n",
       "<tr>\n",
       "  <td>No. Observations:</td>  <td>2754</td>         <td>Method:</td>          <td>REML</td>    \n",
       "</tr>\n",
       "<tr>\n",
       "     <td>No. Groups:</td>       <td>9</td>          <td>Scale:</td>        <td>10584.7163</td> \n",
       "</tr>\n",
       "<tr>\n",
       "  <td>Min. group size:</td>    <td>306</td>       <td>Likelihood:</td>     <td>-16667.3619</td>\n",
       "</tr>\n",
       "<tr>\n",
       "  <td>Max. group size:</td>    <td>306</td>       <td>Converged:</td>          <td>No</td>     \n",
       "</tr>\n",
       "<tr>\n",
       "  <td>Mean group size:</td>   <td>306.0</td>           <td></td>                <td></td>      \n",
       "</tr>\n",
       "</table>\n",
       "<table class=\"simpletable\">\n",
       "<tr>\n",
       "        <td></td>         <th>Coef.</th>     <th>Std.Err.</th>     <th>z</th>   <th>P>|z|</th>     <th>[0.025</th>        <th>0.975]</th>    \n",
       "</tr>\n",
       "<tr>\n",
       "  <th>Intercept</th>     <td>73.404</td>   <td>55972661.820</td> <td>0.000</td> <td>1.000</td> <td>-109704327.882</td> <td>109704474.690</td>\n",
       "</tr>\n",
       "<tr>\n",
       "  <th>weekday</th>       <td>45.571</td>   <td>55972661.820</td> <td>0.000</td> <td>1.000</td> <td>-109704355.715</td> <td>109704446.857</td>\n",
       "</tr>\n",
       "<tr>\n",
       "  <th>weekkend</th>      <td>27.833</td>   <td>55972661.820</td> <td>0.000</td> <td>1.000</td> <td>-109704373.453</td> <td>109704429.119</td>\n",
       "</tr>\n",
       "<tr>\n",
       "  <th>Intercept RE</th> <td>10584.716</td>       <td></td>         <td></td>      <td></td>           <td></td>              <td></td>       \n",
       "</tr>\n",
       "</table>"
      ],
      "text/plain": [
       "<class 'statsmodels.iolib.summary2.Summary'>\n",
       "\"\"\"\n",
       "                    Mixed Linear Model Regression Results\n",
       "============================================================================\n",
       "Model:                   MixedLM       Dependent Variable:       count      \n",
       "No. Observations:        2754          Method:                   REML       \n",
       "No. Groups:              9             Scale:                    10584.7163 \n",
       "Min. group size:         306           Likelihood:               -16667.3619\n",
       "Max. group size:         306           Converged:                No         \n",
       "Mean group size:         306.0                                              \n",
       "----------------------------------------------------------------------------\n",
       "               Coef.     Std.Err.     z   P>|z|     [0.025         0.975]   \n",
       "----------------------------------------------------------------------------\n",
       "Intercept       73.404 55972661.820 0.000 1.000 -109704327.882 109704474.690\n",
       "weekday         45.571 55972661.820 0.000 1.000 -109704355.715 109704446.857\n",
       "weekkend        27.833 55972661.820 0.000 1.000 -109704373.453 109704429.119\n",
       "Intercept RE 10584.716                                                      \n",
       "============================================================================\n",
       "\n",
       "\"\"\""
      ]
     },
     "execution_count": 265,
     "metadata": {},
     "output_type": "execute_result"
    }
   ],
   "source": [
    "md = smf.mixedlm(\"count ~ weekday + weekkend\", df, groups=df[\"cam\"]).fit()\n",
    "md.summary()"
   ]
  },
  {
   "cell_type": "code",
   "execution_count": 271,
   "metadata": {
    "collapsed": false
   },
   "outputs": [],
   "source": [
    "df.columns = ['day','count','cam','date' ,'0h', '1h', '2h', '3h', '4h',\\\n",
    "       '5h', '6h', '7h', '8h', '9h', '10h', '11h', '12h','13h',\\\n",
    "       '14h','15h','16h','17h','18h','19h','20h','21h','22h',\\\n",
    "       '23h', 'weekday','weekend']"
   ]
  },
  {
   "cell_type": "code",
   "execution_count": 270,
   "metadata": {
    "collapsed": false
   },
   "outputs": [
    {
     "data": {
      "text/plain": [
       "Index([u'day', u'count', u'cam', u'date', u'0h', u'1h', u'2h', u'3h', u'4h',\n",
       "       u'5h', u'6h', u'7h', u'8h', u'9h', u'10h', u'11h', u'12h', u'13h',\n",
       "       u'14h', u'15h', u'16h', u'17h', u'18h', u'19h', u'20h', u'21h', u'22h',\n",
       "       u'23h', u'weekday', u'weekkend'],\n",
       "      dtype='object')"
      ]
     },
     "execution_count": 270,
     "metadata": {},
     "output_type": "execute_result"
    }
   ],
   "source": [
    "df.columns"
   ]
  },
  {
   "cell_type": "code",
   "execution_count": 1,
   "metadata": {
    "collapsed": false
   },
   "outputs": [
    {
     "ename": "NameError",
     "evalue": "name 'md' is not defined",
     "output_type": "error",
     "traceback": [
      "\u001b[1;31m---------------------------------------------------------------------------\u001b[0m",
      "\u001b[1;31mNameError\u001b[0m                                 Traceback (most recent call last)",
      "\u001b[1;32m<ipython-input-1-4310fd403acd>\u001b[0m in \u001b[0;36m<module>\u001b[1;34m()\u001b[0m\n\u001b[1;32m----> 1\u001b[1;33m \u001b[0mmd\u001b[0m\u001b[1;33m.\u001b[0m\u001b[0msumary\u001b[0m\u001b[1;33m(\u001b[0m\u001b[1;33m)\u001b[0m\u001b[1;33m\u001b[0m\u001b[0m\n\u001b[0m",
      "\u001b[1;31mNameError\u001b[0m: name 'md' is not defined"
     ]
    }
   ],
   "source": [
    "md.sumary()"
   ]
  },
  {
   "cell_type": "code",
   "execution_count": null,
   "metadata": {
    "collapsed": true
   },
   "outputs": [],
   "source": []
  }
 ],
 "metadata": {
  "kernelspec": {
   "display_name": "Python 2",
   "language": "python",
   "name": "python2"
  },
  "language_info": {
   "codemirror_mode": {
    "name": "ipython",
    "version": 2
   },
   "file_extension": ".py",
   "mimetype": "text/x-python",
   "name": "python",
   "nbconvert_exporter": "python",
   "pygments_lexer": "ipython2",
   "version": "2.7.11"
  }
 },
 "nbformat": 4,
 "nbformat_minor": 0
}
